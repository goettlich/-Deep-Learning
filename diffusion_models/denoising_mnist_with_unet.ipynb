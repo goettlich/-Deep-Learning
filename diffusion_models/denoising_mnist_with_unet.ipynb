{
 "cells": [
  {
   "cell_type": "markdown",
   "metadata": {},
   "source": [
    "# Denoising MNIST with U-Net\n",
    "\n",
    "In this script, we are denoising mnist samples using segmentation. This is just a small usecase of the unet used later in DDPMs. The idea is to segment \"written\" (white) from \"background\" (black) data, while training on different noise scales and obtaining the ground truth by thresholding.\n",
    "* class 0 (background): pixelvalue < 0.5\n",
    "* class 1 (written digit): pixelvalue >= 0.5"
   ]
  },
  {
   "cell_type": "code",
   "execution_count": null,
   "metadata": {},
   "outputs": [],
   "source": [
    "import torch\n",
    "import torchvision\n",
    "import torchvision.transforms as transforms\n",
    "\n",
    "transform = torchvision.transforms.transforms.Compose([\n",
    "    transforms.Resize((32,32)),\n",
    "    transforms.ToTensor(),\n",
    "    transforms.Normalize((0.1307,), (0.3081,))\n",
    "])\n",
    "dataset = torchvision.datasets.MNIST('./../data', train=True, transform=transform, download=False)\n",
    "dataloader = torch.utils.data.DataLoader(dataset, batch_size=32, shuffle=True)"
   ]
  },
  {
   "cell_type": "markdown",
   "metadata": {},
   "source": [
    "### Training Loop"
   ]
  },
  {
   "cell_type": "code",
   "execution_count": null,
   "metadata": {},
   "outputs": [],
   "source": [
    "from simple_unet import SimpleUNet\n",
    "import matplotlib.pyplot as plt\n",
    "\n",
    "denoiser = SimpleUNet(n_channels=1, n_classes=2)\n",
    "optimizer = torch.optim.Adam(params=denoiser.parameters(), lr=1e-3)\n",
    "\n",
    "for i, (batch, labels) in enumerate(dataloader):\n",
    "\n",
    "    ground_truth = torch.round(batch)\n",
    "\n",
    "    prediction = denoiser(batch)\n",
    "\n",
    "    if i%100 == 0:\n",
    "        imgs = torchvision.utils.make_grid(prediction).detach().cpu().numpy()\n",
    "        fig, axes = plt.subplots(1, 2, figsize=(8, 4))\n",
    "        for i, (img, title) in enumerate(zip(imgs,['background', 'handwritten'])):\n",
    "            axes[i].imshow(img)\n",
    "            axes[i].set_title(title)\n",
    "            axes[i].axis('off')\n",
    "\n",
    "    break\n",
    "\n",
    "    \n",
    "    \n",
    "\n",
    "    \n",
    "\n"
   ]
  },
  {
   "cell_type": "code",
   "execution_count": null,
   "metadata": {},
   "outputs": [],
   "source": []
  }
 ],
 "metadata": {
  "language_info": {
   "name": "python"
  }
 },
 "nbformat": 4,
 "nbformat_minor": 2
}
